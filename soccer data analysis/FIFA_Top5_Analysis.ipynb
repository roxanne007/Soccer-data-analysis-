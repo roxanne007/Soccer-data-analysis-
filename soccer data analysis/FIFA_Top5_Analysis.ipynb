{
 "cells": [
  {
   "cell_type": "markdown",
   "id": "6be11d9f",
   "metadata": {},
   "source": [
    "# 🧠 FIFA Top 5% Player Performance Analysis (2017–2021)"
   ]
  },
  {
   "cell_type": "markdown",
   "id": "3346ba1b",
   "metadata": {},
   "source": [
    "This notebook explores how player attributes like **preferred foot**, **nationality**, **age**, **acceleration**, **agility**, and **BMI** impact **wage** and **potential rating** for the **top 5% of FIFA players** from 2017 to 2021.\n",
    "\n",
    "### 🎯 Hypothesis\n",
    "> \"The top 5% of FIFA 21 players are faster (higher acceleration and agility) than those in FIFA 17.\"\n",
    "\n",
    "**Dataset Source**: Sofifa via Kaggle"
   ]
  },
  {
   "cell_type": "code",
   "execution_count": null,
   "id": "679dfb23",
   "metadata": {},
   "outputs": [],
   "source": [
    "import pandas as pd\n",
    "import seaborn as sns\n",
    "import matplotlib.pyplot as plt\n",
    "import warnings\n",
    "warnings.filterwarnings('ignore')\n",
    "\n",
    "# Load player datasets (CSV uploads required)\n",
    "players17_df = pd.read_csv('players_17.csv')\n",
    "players18_df = pd.read_csv('players_18.csv')\n",
    "players19_df = pd.read_csv('players_19.csv')\n",
    "players20_df = pd.read_csv('players_20.csv')\n",
    "players21_df = pd.read_csv('players_21.csv')\n",
    "\n",
    "# Add season labels\n",
    "players17_df[\"season\"] = 2017\n",
    "players18_df[\"season\"] = 2018\n",
    "players19_df[\"season\"] = 2019\n",
    "players20_df[\"season\"] = 2020\n",
    "players21_df[\"season\"] = 2021\n",
    "\n",
    "# Top 5% filter\n",
    "def top_5_percent(df):\n",
    "    return df.nlargest(int(0.05 * len(df)), 'overall')\n",
    "\n",
    "dfs = [top_5_percent(df) for df in [players17_df, players18_df, players19_df, players20_df, players21_df]]\n",
    "df = pd.concat(dfs)\n",
    "\n",
    "# Calculate BMI\n",
    "df['BMI'] = df['weight_kg'] / ((df['height_cm'] / 100) ** 2)\n",
    "df.rename(columns={\n",
    "    'movement_acceleration': 'acceleration',\n",
    "    'movement_agility': 'agility',\n",
    "    'short_name': 'name',\n",
    "    'wage_eur': 'wage'\n",
    "}, inplace=True)\n",
    "df.drop_duplicates(inplace=True)\n",
    "df.reset_index(drop=True, inplace=True)\n",
    "\n",
    "df.head()"
   ]
  },
  {
   "cell_type": "markdown",
   "id": "18a10041",
   "metadata": {},
   "source": [
    "## ✅ Conclusion\n",
    "\n",
    "- **Preferred foot** had minimal impact on wage or potential.\n",
    "- **Nationality** influences both wage and potential.\n",
    "- **Age** shows players peak in potential between 26–30.\n",
    "- **Acceleration** and **agility** significantly impact both wage and potential.\n",
    "- **BMI** suggests leaner players earn more.\n",
    "\n",
    "🎯 **Hypothesis confirmed**: FIFA 21 top players are faster than FIFA 17 players.\n"
   ]
  }
 ],
 "metadata": {},
 "nbformat": 4,
 "nbformat_minor": 5
}
