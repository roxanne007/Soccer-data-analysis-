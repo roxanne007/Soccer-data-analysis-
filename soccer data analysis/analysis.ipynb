{
 "cells": [
  {
   "cell_type": "markdown",
   "metadata": {},
   "source": [
    "# Analysis of the Top 5% FIFA Players' Performances (2017–2021)"
   ]
  },
  {
   "cell_type": "markdown",
   "metadata": {},
   "source": [
    "This project explores how player attributes such as preferred foot, nationality, age, acceleration, agility, and BMI affect wage and potential over the FIFA seasons 2017 to 2021.\n",
    "\n",
    "**Hypothesis:** The top 5% of FIFA 21 players are faster (higher acceleration and agility) than in FIFA 17."
   ]
  },
  {
   "cell_type": "code",
   "execution_count": null,
   "metadata": {},
   "outputs": [],
   "source": [
    "import pandas as pd\n",
    "import seaborn as sns\n",
    "import matplotlib.pyplot as plt\n",
    "import warnings\n",
    "warnings.filterwarnings('ignore')\n",
    "\n",
    "df = pd.read_csv('cleaned_fifa_top5.csv')\n",
    "df.head()"
   ]
  },
  {
   "cell_type": "markdown",
   "metadata": {},
   "source": [
    "## Preferred Foot vs Potential & Wage"
   ]
  },
  {
   "cell_type": "code",
   "execution_count": null,
   "metadata": {},
   "outputs": [],
   "source": [
    "sns.catplot(x='preferred_foot', y='potential', data=df, kind='bar', palette='cool', aspect=2)\n",
    "plt.title(\"Potential by Preferred Foot\")\n",
    "plt.tight_layout()\n",
    "plt.show()\n",
    "\n",
    "sns.catplot(x='preferred_foot', y='wage', data=df, kind='bar', palette='cool', aspect=2)\n",
    "plt.title(\"Wage by Preferred Foot\")\n",
    "plt.tight_layout()\n",
    "plt.show()"
   ]
  },
  {
   "cell_type": "markdown",
   "metadata": {},
   "source": [
    "## Nationality vs Potential & Wage"
   ]
  },
  {
   "cell_type": "code",
   "execution_count": null,
   "metadata": {},
   "outputs": [],
   "source": [
    "top5_nationalities = df['nationality'].value_counts().head(5).index.tolist()\n",
    "top5_df = df[df['nationality'].isin(top5_nationalities)]\n",
    "sns.catplot(y='nationality', x='wage', data=top5_df, kind='bar', aspect=2, palette='cool')\n",
    "plt.title(\"Top 5 Nationalities by Wage\")\n",
    "plt.tight_layout()\n",
    "plt.show()\n",
    "\n",
    "sns.catplot(y='nationality', x='potential', data=top5_df, kind='bar', aspect=2, palette='cool')\n",
    "plt.title(\"Top 5 Nationalities by Potential\")\n",
    "plt.tight_layout()\n",
    "plt.show()"
   ]
  },
  {
   "cell_type": "markdown",
   "metadata": {},
   "source": [
    "## Age vs Potential & Wage"
   ]
  },
  {
   "cell_type": "code",
   "execution_count": null,
   "metadata": {},
   "outputs": [],
   "source": [
    "sns.lmplot(x='age', y='wage', data=df, aspect=2, scatter_kws={'color': 'blue'}, line_kws={'color': 'purple'})\n",
    "plt.title(\"Wage by Age\")\n",
    "plt.tight_layout()\n",
    "plt.show()\n",
    "\n",
    "sns.lmplot(x='age', y='potential', data=df, aspect=2, scatter_kws={'color': 'green'}, line_kws={'color': 'black'})\n",
    "plt.title(\"Potential by Age\")\n",
    "plt.tight_layout()\n",
    "plt.show()"
   ]
  },
  {
   "cell_type": "markdown",
   "metadata": {},
   "source": [
    "## Acceleration & Agility vs Potential & Wage"
   ]
  },
  {
   "cell_type": "code",
   "execution_count": null,
   "metadata": {},
   "outputs": [],
   "source": [
    "sns.lmplot(x='acceleration', y='wage', data=df, aspect=2)\n",
    "plt.title(\"Wage by Acceleration\")\n",
    "plt.tight_layout()\n",
    "plt.show()\n",
    "\n",
    "sns.lmplot(x='agility', y='potential', data=df, aspect=2)\n",
    "plt.title(\"Potential by Agility\")\n",
    "plt.tight_layout()\n",
    "plt.show()"
   ]
  },
  {
   "cell_type": "markdown",
   "metadata": {},
   "source": [
    "## BMI vs Potential & Wage"
   ]
  },
  {
   "cell_type": "code",
   "execution_count": null,
   "metadata": {},
   "outputs": [],
   "source": [
    "sns.regplot(x='BMI', y='wage', data=df)\n",
    "plt.title(\"Wage by BMI\")\n",
    "plt.tight_layout()\n",
    "plt.show()\n",
    "\n",
    "sns.regplot(x='BMI', y='potential', data=df)\n",
    "plt.title(\"Potential by BMI\")\n",
    "plt.tight_layout()\n",
    "plt.show()"
   ]
  },
  {
   "cell_type": "markdown",
   "metadata": {},
   "source": [
    "## Conclusion\n",
    "\n",
    "- Preferred foot has minimal effect on performance.\n",
    "- Nationality impacts wage and potential.\n",
    "- Age correlates slightly with potential.\n",
    "- Acceleration and agility significantly influence both wage and potential.\n",
    "- Higher BMI tends to lower wage.\n",
    "\n",
    "✅ **Hypothesis confirmed**: Players in FIFA 21 are faster than in FIFA 17."
   ]
  }
 ],
 "metadata": {
  "kernelspec": {
   "display_name": "Python 3",
   "language": "python",
   "name": "python3"
  },
  "language_info": {
   "name": "python",
   "version": "3.9"
  }
 },
 "nbformat": 4,
 "nbformat_minor": 5
}
