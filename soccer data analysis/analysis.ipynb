# 🧠 FIFA Top 5% Player Performance Analysis (2017–2021)

# 📦 Setup
import pandas as pd
import seaborn as sns
import matplotlib.pyplot as plt
import warnings
warnings.filterwarnings('ignore')

# 📁 Load data
players17_df = pd.read_csv('players_17.csv')
players18_df = pd.read_csv('players_18.csv')
players19_df = pd.read_csv('players_19.csv')
players20_df = pd.read_csv('players_20.csv')
players21_df = pd.read_csv('players_21.csv')

# 🗓️ Add season column
players17_df["season"] = 2017
players18_df["season"] = 2018
players19_df["season"] = 2019
players20_df["season"] = 2020
players21_df["season"] = 2021

# 🔝 Top 5% filter
def top_5_percent(df):
    return df.nlargest(int(0.05 * len(df)), 'overall')

dfs = [top_5_percent(df) for df in [players17_df, players18_df, players19_df, players20_df, players21_df]]
df = pd.concat(dfs)

# 🧮 Calculate BMI
df['BMI'] = df['weight_kg'] / ((df['height_cm'] / 100) ** 2)

# ✏️ Rename useful columns
df.rename(columns={
    'movement_acceleration': 'acceleration',
    'movement_agility': 'agility',
    'short_name': 'name',
    'wage_eur': 'wage'
}, inplace=True)

df.drop_duplicates(inplace=True)
df.reset_index(drop=True, inplace=True)

# 📊 Analysis

# Preferred Foot
sns.catplot(x='preferred_foot', y='potential', data=df, kind='bar', palette='cool', aspect=2)
plt.title("Potential by Preferred Foot")
plt.tight_layout()
plt.show()

sns.catplot(x='preferred_foot', y='wage', data=df, kind='bar', palette='cool', aspect=2)
plt.title("Wage by Preferred Foot")
plt.tight_layout()
plt.show()

# Nationality
top5_nations = df['nationality'].value_counts().head(5).index.tolist()
top5_df = df[df['nationality'].isin(top5_nations)]

sns.catplot(y='nationality', x='wage', data=top5_df, kind='bar', aspect=2, palette='cool')
plt.title("Top 5 Nationalities by Wage")
plt.tight_layout()
plt.show()

sns.catplot(y='nationality', x='potential', data=top5_df, kind='bar', aspect=2, palette='cool')
plt.title("Top 5 Nationalities by Potential")
plt.tight_layout()
plt.show()

# Age
sns.lmplot(x='age', y='wage', data=df, aspect=2,
           scatter_kws={'color': 'blue'}, line_kws={'color': 'purple'})
plt.title("Wage by Age")
plt.tight_layout()
plt.show()

sns.lmplot(x='age', y='potential', data=df, aspect=2,
           scatter_kws={'color': 'green'}, line_kws={'color': 'black'})
plt.title("Potential by Age")
plt.tight_layout()
plt.show()

# Acceleration
sns.lmplot(x='acceleration', y='wage', data=df, aspect=2)
plt.title("Wage by Acceleration")
plt.tight_layout()
plt.show()

sns.lmplot(x='acceleration', y='potential', data=df, aspect=2)
plt.title("Potential by Acceleration")
plt.tight_layout()
plt.show()

# Agility
sns.lmplot(x='agility', y='wage', data=df, aspect=2)
plt.title("Wage by Agility")
plt.tight_layout()
plt.show()

sns.lmplot(x='agility', y='potential', data=df, aspect=2)
plt.title("Potential by Agility")
plt.tight_layout()
plt.show()

# BMI
sns.regplot(x='BMI', y='wage', data=df)
plt.title("Wage by BMI")
plt.tight_layout()
plt.show()

sns.regplot(x='BMI', y='potential', data=df)
plt.title("Potential by BMI")
plt.tight_layout()
plt.show()

# 🧾 Conclusion
from IPython.display import Markdown as md
md("""
## 🧾 Conclusion

- **Preferred foot** has minimal impact on wage or potential.
- **Nationality** influences both wage and potential. Argentina, Portugal and Brazil lead.
- **Age** shows players peak in potential between 26–30.
- **Acceleration** and **agility** strongly correlate with higher wage and potential.
- **BMI** suggests leaner players earn more and are rated higher.

✅ **Hypothesis confirmed**: FIFA 21’s top players are faster (acceleration/agility) than FIFA 17.
""")
